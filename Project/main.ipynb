{
 "cells": [
  {
   "cell_type": "code",
   "execution_count": 7,
   "metadata": {},
   "outputs": [
    {
     "name": "stdout",
     "output_type": "stream",
     "text": [
      "           topic  sentiment  interest_level\n",
      "0     Technology       8.50            4.21\n",
      "1       Politics       6.23            3.87\n",
      "2  Entertainment       9.10            4.74\n",
      "3         Sports       9.85            4.92\n",
      "4        Science       9.35            4.58\n",
      "                                               sentence\n",
      "The new AI model is impressive.                     NaN\n",
      "The government's new policy is controversial.       NaN\n",
      "The latest movie was a box office success.          NaN\n",
      "The home team won the championship game.            NaN\n",
      "The discovery of a new planet is exciting.          NaN\n"
     ]
    }
   ],
   "source": [
    "import pandas as pd\n",
    "\n",
    "df = pd.read_csv('analysis.csv')\n",
    "\n",
    "df2 = pd.read_csv(\"sentence.csv\")\n",
    "\n",
    "print(df.head(5))\n",
    "print(df2.head(5))"
   ]
  }
 ],
 "metadata": {
  "kernelspec": {
   "display_name": "Python 3",
   "language": "python",
   "name": "python3"
  },
  "language_info": {
   "codemirror_mode": {
    "name": "ipython",
    "version": 3
   },
   "file_extension": ".py",
   "mimetype": "text/x-python",
   "name": "python",
   "nbconvert_exporter": "python",
   "pygments_lexer": "ipython3",
   "version": "3.10.7"
  }
 },
 "nbformat": 4,
 "nbformat_minor": 2
}
